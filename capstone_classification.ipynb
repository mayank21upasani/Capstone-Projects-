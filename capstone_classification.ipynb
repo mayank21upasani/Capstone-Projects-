{
 "cells": [
  {
   "cell_type": "code",
   "execution_count": 28,
   "id": "dc9bba85",
   "metadata": {},
   "outputs": [],
   "source": [
    "import pandas as pd\n",
    "import numpy as np\n",
    "import matplotlib.pyplot as plt\n",
    "import time\n",
    "import seaborn as sns\n",
    "import warnings\n",
    "warnings.filterwarnings('ignore')\n",
    "from sklearn.preprocessing import LabelEncoder\n",
    "from sklearn.model_selection import train_test_split\n",
    "from sklearn.metrics import accuracy_score, precision_score, recall_score, f1_score, confusion_matrix, classification_report\n",
    "from sklearn.tree import DecisionTreeClassifier\n",
    "from sklearn.ensemble import RandomForestClassifier\n",
    "from sklearn.multiclass import OneVsRestClassifier\n",
    "from sklearn.linear_model import LogisticRegression\n",
    "import torch\n",
    "import tensorflow as tf\n",
    "from transformers import pipeline\n",
    "from transformers import TFDistilBertForSequenceClassification, TFTrainer, TFTrainingArguments\n",
    "from transformers import DistilBertTokenizerFast\n",
    "from transformers import BertTokenizer, BertForSequenceClassification\n",
    "from transformers import AutoTokenizer, AutoModelForSequenceClassification, TFAutoModelForSequenceClassification"
   ]
  },
  {
   "cell_type": "code",
   "execution_count": 2,
   "id": "b3695653",
   "metadata": {},
   "outputs": [
    {
     "data": {
      "text/html": [
       "<div>\n",
       "<style scoped>\n",
       "    .dataframe tbody tr th:only-of-type {\n",
       "        vertical-align: middle;\n",
       "    }\n",
       "\n",
       "    .dataframe tbody tr th {\n",
       "        vertical-align: top;\n",
       "    }\n",
       "\n",
       "    .dataframe thead th {\n",
       "        text-align: right;\n",
       "    }\n",
       "</style>\n",
       "<table border=\"1\" class=\"dataframe\">\n",
       "  <thead>\n",
       "    <tr style=\"text-align: right;\">\n",
       "      <th></th>\n",
       "      <th>overall</th>\n",
       "      <th>asin</th>\n",
       "      <th>unixReviewTime</th>\n",
       "      <th>overall_split</th>\n",
       "      <th>date</th>\n",
       "      <th>text</th>\n",
       "      <th>text_token</th>\n",
       "      <th>positive</th>\n",
       "      <th>negative</th>\n",
       "      <th>neutral</th>\n",
       "      <th>compound</th>\n",
       "      <th>vader_sentiment</th>\n",
       "    </tr>\n",
       "  </thead>\n",
       "  <tbody>\n",
       "    <tr>\n",
       "      <th>0</th>\n",
       "      <td>2</td>\n",
       "      <td>B002MQ7JOU</td>\n",
       "      <td>1253750400</td>\n",
       "      <td>1.0</td>\n",
       "      <td>2009-09-24</td>\n",
       "      <td>second love by collin obremski mostly this abu...</td>\n",
       "      <td>['second', 'love', 'collin', 'obremski', 'most...</td>\n",
       "      <td>0.318</td>\n",
       "      <td>0.179</td>\n",
       "      <td>0.503</td>\n",
       "      <td>0.9975</td>\n",
       "      <td>Positive</td>\n",
       "    </tr>\n",
       "    <tr>\n",
       "      <th>1</th>\n",
       "      <td>2</td>\n",
       "      <td>B00136PP8M</td>\n",
       "      <td>1441065600</td>\n",
       "      <td>1.0</td>\n",
       "      <td>2015-09-01</td>\n",
       "      <td>i thought this was going to be the arrangement...</td>\n",
       "      <td>['thought', 'going', 'arrangement', 'remember'...</td>\n",
       "      <td>0.117</td>\n",
       "      <td>0.061</td>\n",
       "      <td>0.821</td>\n",
       "      <td>0.3976</td>\n",
       "      <td>Neutral</td>\n",
       "    </tr>\n",
       "    <tr>\n",
       "      <th>2</th>\n",
       "      <td>5</td>\n",
       "      <td>B0161BPHKY</td>\n",
       "      <td>1484697600</td>\n",
       "      <td>0.0</td>\n",
       "      <td>2017-01-18</td>\n",
       "      <td>love the song it speaks how we should teach ou...</td>\n",
       "      <td>['love', 'song', 'speaks', 'teach', 'child', '...</td>\n",
       "      <td>0.277</td>\n",
       "      <td>0.000</td>\n",
       "      <td>0.723</td>\n",
       "      <td>0.7845</td>\n",
       "      <td>Positive</td>\n",
       "    </tr>\n",
       "    <tr>\n",
       "      <th>3</th>\n",
       "      <td>5</td>\n",
       "      <td>B007XXFHLO</td>\n",
       "      <td>1410134400</td>\n",
       "      <td>0.0</td>\n",
       "      <td>2014-09-08</td>\n",
       "      <td>jesus is the name of our savior i love it</td>\n",
       "      <td>['jesus', 'name', 'savior', 'love']</td>\n",
       "      <td>0.344</td>\n",
       "      <td>0.000</td>\n",
       "      <td>0.656</td>\n",
       "      <td>0.6369</td>\n",
       "      <td>Positive</td>\n",
       "    </tr>\n",
       "    <tr>\n",
       "      <th>4</th>\n",
       "      <td>5</td>\n",
       "      <td>B00BJ9RNE2</td>\n",
       "      <td>1505260800</td>\n",
       "      <td>0.0</td>\n",
       "      <td>2017-09-13</td>\n",
       "      <td>this was recommended by my psychologist to rel...</td>\n",
       "      <td>['recommended', 'psychologist', 'relax', 'def'...</td>\n",
       "      <td>0.318</td>\n",
       "      <td>0.000</td>\n",
       "      <td>0.682</td>\n",
       "      <td>0.8658</td>\n",
       "      <td>Positive</td>\n",
       "    </tr>\n",
       "  </tbody>\n",
       "</table>\n",
       "</div>"
      ],
      "text/plain": [
       "   overall        asin  unixReviewTime  overall_split        date  \\\n",
       "0        2  B002MQ7JOU      1253750400            1.0  2009-09-24   \n",
       "1        2  B00136PP8M      1441065600            1.0  2015-09-01   \n",
       "2        5  B0161BPHKY      1484697600            0.0  2017-01-18   \n",
       "3        5  B007XXFHLO      1410134400            0.0  2014-09-08   \n",
       "4        5  B00BJ9RNE2      1505260800            0.0  2017-09-13   \n",
       "\n",
       "                                                text  \\\n",
       "0  second love by collin obremski mostly this abu...   \n",
       "1  i thought this was going to be the arrangement...   \n",
       "2  love the song it speaks how we should teach ou...   \n",
       "3          jesus is the name of our savior i love it   \n",
       "4  this was recommended by my psychologist to rel...   \n",
       "\n",
       "                                          text_token  positive  negative  \\\n",
       "0  ['second', 'love', 'collin', 'obremski', 'most...     0.318     0.179   \n",
       "1  ['thought', 'going', 'arrangement', 'remember'...     0.117     0.061   \n",
       "2  ['love', 'song', 'speaks', 'teach', 'child', '...     0.277     0.000   \n",
       "3                ['jesus', 'name', 'savior', 'love']     0.344     0.000   \n",
       "4  ['recommended', 'psychologist', 'relax', 'def'...     0.318     0.000   \n",
       "\n",
       "   neutral  compound vader_sentiment  \n",
       "0    0.503    0.9975        Positive  \n",
       "1    0.821    0.3976         Neutral  \n",
       "2    0.723    0.7845        Positive  \n",
       "3    0.656    0.6369        Positive  \n",
       "4    0.682    0.8658        Positive  "
      ]
     },
     "execution_count": 2,
     "metadata": {},
     "output_type": "execute_result"
    }
   ],
   "source": [
    "music_data=pd.read_csv('Music_ml_data.csv')\n",
    "music_data.head()"
   ]
  },
  {
   "cell_type": "code",
   "execution_count": 3,
   "id": "ec187097",
   "metadata": {},
   "outputs": [
    {
     "data": {
      "text/plain": [
       "Positive    24804\n",
       "Neutral      8639\n",
       "Negative     3393\n",
       "Conflict     3164\n",
       "Name: vader_sentiment, dtype: int64"
      ]
     },
     "execution_count": 3,
     "metadata": {},
     "output_type": "execute_result"
    }
   ],
   "source": [
    "music_data['vader_sentiment'].value_counts()"
   ]
  },
  {
   "cell_type": "code",
   "execution_count": 4,
   "id": "ecbf8b1e",
   "metadata": {},
   "outputs": [],
   "source": [
    "label_encoder=LabelEncoder()\n",
    "music_data['sentiment_encoded']=label_encoder.fit_transform(music_data['vader_sentiment'])"
   ]
  },
  {
   "cell_type": "code",
   "execution_count": 5,
   "id": "01096700",
   "metadata": {},
   "outputs": [
    {
     "data": {
      "text/html": [
       "<div>\n",
       "<style scoped>\n",
       "    .dataframe tbody tr th:only-of-type {\n",
       "        vertical-align: middle;\n",
       "    }\n",
       "\n",
       "    .dataframe tbody tr th {\n",
       "        vertical-align: top;\n",
       "    }\n",
       "\n",
       "    .dataframe thead th {\n",
       "        text-align: right;\n",
       "    }\n",
       "</style>\n",
       "<table border=\"1\" class=\"dataframe\">\n",
       "  <thead>\n",
       "    <tr style=\"text-align: right;\">\n",
       "      <th></th>\n",
       "      <th>0</th>\n",
       "      <th>1</th>\n",
       "      <th>2</th>\n",
       "      <th>3</th>\n",
       "      <th>4</th>\n",
       "      <th>5</th>\n",
       "      <th>6</th>\n",
       "      <th>7</th>\n",
       "      <th>8</th>\n",
       "      <th>9</th>\n",
       "      <th>...</th>\n",
       "      <th>758</th>\n",
       "      <th>759</th>\n",
       "      <th>760</th>\n",
       "      <th>761</th>\n",
       "      <th>762</th>\n",
       "      <th>763</th>\n",
       "      <th>764</th>\n",
       "      <th>765</th>\n",
       "      <th>766</th>\n",
       "      <th>767</th>\n",
       "    </tr>\n",
       "  </thead>\n",
       "  <tbody>\n",
       "    <tr>\n",
       "      <th>0</th>\n",
       "      <td>0.006341</td>\n",
       "      <td>-0.048968</td>\n",
       "      <td>0.050782</td>\n",
       "      <td>0.004770</td>\n",
       "      <td>0.014288</td>\n",
       "      <td>-0.054868</td>\n",
       "      <td>-0.042598</td>\n",
       "      <td>-0.005151</td>\n",
       "      <td>-0.006990</td>\n",
       "      <td>0.062035</td>\n",
       "      <td>...</td>\n",
       "      <td>-0.004214</td>\n",
       "      <td>0.015523</td>\n",
       "      <td>0.008789</td>\n",
       "      <td>0.044980</td>\n",
       "      <td>-0.013625</td>\n",
       "      <td>-0.009514</td>\n",
       "      <td>0.099590</td>\n",
       "      <td>-0.044852</td>\n",
       "      <td>-0.035846</td>\n",
       "      <td>0.017131</td>\n",
       "    </tr>\n",
       "    <tr>\n",
       "      <th>1</th>\n",
       "      <td>-0.016574</td>\n",
       "      <td>-0.014582</td>\n",
       "      <td>0.004706</td>\n",
       "      <td>-0.057177</td>\n",
       "      <td>0.027480</td>\n",
       "      <td>-0.067841</td>\n",
       "      <td>-0.070344</td>\n",
       "      <td>0.090828</td>\n",
       "      <td>0.025527</td>\n",
       "      <td>-0.043992</td>\n",
       "      <td>...</td>\n",
       "      <td>-0.005843</td>\n",
       "      <td>0.024512</td>\n",
       "      <td>0.043574</td>\n",
       "      <td>0.020036</td>\n",
       "      <td>-0.071452</td>\n",
       "      <td>0.008643</td>\n",
       "      <td>0.052097</td>\n",
       "      <td>-0.027362</td>\n",
       "      <td>-0.052158</td>\n",
       "      <td>-0.024019</td>\n",
       "    </tr>\n",
       "  </tbody>\n",
       "</table>\n",
       "<p>2 rows × 768 columns</p>\n",
       "</div>"
      ],
      "text/plain": [
       "          0         1         2         3         4         5         6  \\\n",
       "0  0.006341 -0.048968  0.050782  0.004770  0.014288 -0.054868 -0.042598   \n",
       "1 -0.016574 -0.014582  0.004706 -0.057177  0.027480 -0.067841 -0.070344   \n",
       "\n",
       "          7         8         9  ...       758       759       760       761  \\\n",
       "0 -0.005151 -0.006990  0.062035  ... -0.004214  0.015523  0.008789  0.044980   \n",
       "1  0.090828  0.025527 -0.043992  ... -0.005843  0.024512  0.043574  0.020036   \n",
       "\n",
       "        762       763       764       765       766       767  \n",
       "0 -0.013625 -0.009514  0.099590 -0.044852 -0.035846  0.017131  \n",
       "1 -0.071452  0.008643  0.052097 -0.027362 -0.052158 -0.024019  \n",
       "\n",
       "[2 rows x 768 columns]"
      ]
     },
     "execution_count": 5,
     "metadata": {},
     "output_type": "execute_result"
    }
   ],
   "source": [
    "music_vector=pd.read_csv(\"music_vectorized.csv\")\n",
    "music_vector.head(2)"
   ]
  },
  {
   "cell_type": "code",
   "execution_count": 6,
   "id": "e029c20f",
   "metadata": {},
   "outputs": [
    {
     "data": {
      "text/html": [
       "<div>\n",
       "<style scoped>\n",
       "    .dataframe tbody tr th:only-of-type {\n",
       "        vertical-align: middle;\n",
       "    }\n",
       "\n",
       "    .dataframe tbody tr th {\n",
       "        vertical-align: top;\n",
       "    }\n",
       "\n",
       "    .dataframe thead th {\n",
       "        text-align: right;\n",
       "    }\n",
       "</style>\n",
       "<table border=\"1\" class=\"dataframe\">\n",
       "  <thead>\n",
       "    <tr style=\"text-align: right;\">\n",
       "      <th></th>\n",
       "      <th>0</th>\n",
       "      <th>1</th>\n",
       "      <th>2</th>\n",
       "      <th>3</th>\n",
       "      <th>4</th>\n",
       "      <th>5</th>\n",
       "      <th>6</th>\n",
       "      <th>7</th>\n",
       "      <th>8</th>\n",
       "      <th>9</th>\n",
       "      <th>...</th>\n",
       "      <th>759</th>\n",
       "      <th>760</th>\n",
       "      <th>761</th>\n",
       "      <th>762</th>\n",
       "      <th>763</th>\n",
       "      <th>764</th>\n",
       "      <th>765</th>\n",
       "      <th>766</th>\n",
       "      <th>767</th>\n",
       "      <th>sentiment_encoded</th>\n",
       "    </tr>\n",
       "  </thead>\n",
       "  <tbody>\n",
       "    <tr>\n",
       "      <th>0</th>\n",
       "      <td>0.006341</td>\n",
       "      <td>-0.048968</td>\n",
       "      <td>0.050782</td>\n",
       "      <td>0.004770</td>\n",
       "      <td>0.014288</td>\n",
       "      <td>-0.054868</td>\n",
       "      <td>-0.042598</td>\n",
       "      <td>-0.005151</td>\n",
       "      <td>-0.006990</td>\n",
       "      <td>0.062035</td>\n",
       "      <td>...</td>\n",
       "      <td>0.015523</td>\n",
       "      <td>0.008789</td>\n",
       "      <td>0.044980</td>\n",
       "      <td>-0.013625</td>\n",
       "      <td>-0.009514</td>\n",
       "      <td>0.099590</td>\n",
       "      <td>-0.044852</td>\n",
       "      <td>-0.035846</td>\n",
       "      <td>0.017131</td>\n",
       "      <td>3</td>\n",
       "    </tr>\n",
       "    <tr>\n",
       "      <th>1</th>\n",
       "      <td>-0.016574</td>\n",
       "      <td>-0.014582</td>\n",
       "      <td>0.004706</td>\n",
       "      <td>-0.057177</td>\n",
       "      <td>0.027480</td>\n",
       "      <td>-0.067841</td>\n",
       "      <td>-0.070344</td>\n",
       "      <td>0.090828</td>\n",
       "      <td>0.025527</td>\n",
       "      <td>-0.043992</td>\n",
       "      <td>...</td>\n",
       "      <td>0.024512</td>\n",
       "      <td>0.043574</td>\n",
       "      <td>0.020036</td>\n",
       "      <td>-0.071452</td>\n",
       "      <td>0.008643</td>\n",
       "      <td>0.052097</td>\n",
       "      <td>-0.027362</td>\n",
       "      <td>-0.052158</td>\n",
       "      <td>-0.024019</td>\n",
       "      <td>2</td>\n",
       "    </tr>\n",
       "  </tbody>\n",
       "</table>\n",
       "<p>2 rows × 769 columns</p>\n",
       "</div>"
      ],
      "text/plain": [
       "          0         1         2         3         4         5         6  \\\n",
       "0  0.006341 -0.048968  0.050782  0.004770  0.014288 -0.054868 -0.042598   \n",
       "1 -0.016574 -0.014582  0.004706 -0.057177  0.027480 -0.067841 -0.070344   \n",
       "\n",
       "          7         8         9  ...       759       760       761       762  \\\n",
       "0 -0.005151 -0.006990  0.062035  ...  0.015523  0.008789  0.044980 -0.013625   \n",
       "1  0.090828  0.025527 -0.043992  ...  0.024512  0.043574  0.020036 -0.071452   \n",
       "\n",
       "        763       764       765       766       767  sentiment_encoded  \n",
       "0 -0.009514  0.099590 -0.044852 -0.035846  0.017131                  3  \n",
       "1  0.008643  0.052097 -0.027362 -0.052158 -0.024019                  2  \n",
       "\n",
       "[2 rows x 769 columns]"
      ]
     },
     "execution_count": 6,
     "metadata": {},
     "output_type": "execute_result"
    }
   ],
   "source": [
    "music_vector['sentiment_encoded']=music_data['sentiment_encoded']\n",
    "music_vector.head(2)"
   ]
  },
  {
   "cell_type": "code",
   "execution_count": 7,
   "id": "180b8c61",
   "metadata": {},
   "outputs": [
    {
     "data": {
      "text/plain": [
       "(3164, 769)"
      ]
     },
     "execution_count": 7,
     "metadata": {},
     "output_type": "execute_result"
    }
   ],
   "source": [
    "music1=music_vector.loc[music_vector['sentiment_encoded']==0]\n",
    "music1.shape"
   ]
  },
  {
   "cell_type": "code",
   "execution_count": 8,
   "id": "d1624e36",
   "metadata": {},
   "outputs": [
    {
     "data": {
      "text/plain": [
       "(3393, 769)"
      ]
     },
     "execution_count": 8,
     "metadata": {},
     "output_type": "execute_result"
    }
   ],
   "source": [
    "music2=music_vector.loc[music_vector['sentiment_encoded']==1]\n",
    "music2.shape"
   ]
  },
  {
   "cell_type": "code",
   "execution_count": 9,
   "id": "ffec9b4b",
   "metadata": {},
   "outputs": [
    {
     "data": {
      "text/plain": [
       "(8639, 769)"
      ]
     },
     "execution_count": 9,
     "metadata": {},
     "output_type": "execute_result"
    }
   ],
   "source": [
    "music3=music_vector.loc[music_vector['sentiment_encoded']==2]\n",
    "music3.shape"
   ]
  },
  {
   "cell_type": "code",
   "execution_count": 10,
   "id": "6e181c31",
   "metadata": {},
   "outputs": [
    {
     "data": {
      "text/plain": [
       "(24804, 769)"
      ]
     },
     "execution_count": 10,
     "metadata": {},
     "output_type": "execute_result"
    }
   ],
   "source": [
    "music4=music_vector.loc[music_vector['sentiment_encoded']==3]\n",
    "music4.shape"
   ]
  },
  {
   "cell_type": "code",
   "execution_count": 11,
   "id": "f5fa0572",
   "metadata": {},
   "outputs": [
    {
     "data": {
      "text/plain": [
       "(24800, 769)"
      ]
     },
     "execution_count": 11,
     "metadata": {},
     "output_type": "execute_result"
    }
   ],
   "source": [
    "music4=music4.sample(n=24800)\n",
    "music4.shape"
   ]
  },
  {
   "cell_type": "code",
   "execution_count": 12,
   "id": "c22fba94",
   "metadata": {},
   "outputs": [
    {
     "data": {
      "text/plain": [
       "(24800, 769)"
      ]
     },
     "execution_count": 12,
     "metadata": {},
     "output_type": "execute_result"
    }
   ],
   "source": [
    "music3=music3.sample(n=24800,replace=True)\n",
    "music3.shape"
   ]
  },
  {
   "cell_type": "code",
   "execution_count": 13,
   "id": "5c9ed37f",
   "metadata": {},
   "outputs": [
    {
     "data": {
      "text/plain": [
       "(24800, 769)"
      ]
     },
     "execution_count": 13,
     "metadata": {},
     "output_type": "execute_result"
    }
   ],
   "source": [
    "music2=music2.sample(n=24800,replace=True)\n",
    "music2.shape"
   ]
  },
  {
   "cell_type": "code",
   "execution_count": 14,
   "id": "d13ffe90",
   "metadata": {},
   "outputs": [
    {
     "data": {
      "text/plain": [
       "(24800, 769)"
      ]
     },
     "execution_count": 14,
     "metadata": {},
     "output_type": "execute_result"
    }
   ],
   "source": [
    "music1=music1.sample(n=24800,replace=True)\n",
    "music1.shape"
   ]
  },
  {
   "cell_type": "code",
   "execution_count": 15,
   "id": "d643274c",
   "metadata": {},
   "outputs": [
    {
     "data": {
      "text/plain": [
       "(99200, 769)"
      ]
     },
     "execution_count": 15,
     "metadata": {},
     "output_type": "execute_result"
    }
   ],
   "source": [
    "music_blc=pd.concat([music1,music2,music3,music4])\n",
    "music_blc.shape"
   ]
  },
  {
   "cell_type": "code",
   "execution_count": 16,
   "id": "c13dac3e",
   "metadata": {},
   "outputs": [
    {
     "data": {
      "text/plain": [
       "0    24800\n",
       "1    24800\n",
       "2    24800\n",
       "3    24800\n",
       "Name: sentiment_encoded, dtype: int64"
      ]
     },
     "execution_count": 16,
     "metadata": {},
     "output_type": "execute_result"
    }
   ],
   "source": [
    "music_blc['sentiment_encoded'].value_counts()"
   ]
  },
  {
   "cell_type": "code",
   "execution_count": 17,
   "id": "6624217e",
   "metadata": {},
   "outputs": [],
   "source": [
    "x=music_blc.drop('sentiment_encoded',axis=1)\n",
    "y=music_blc['sentiment_encoded']"
   ]
  },
  {
   "cell_type": "code",
   "execution_count": 18,
   "id": "d97583a5",
   "metadata": {},
   "outputs": [],
   "source": [
    "x_train, x_test, y_train, y_test = train_test_split(x, y, test_size = 0.30, random_state = 0)"
   ]
  },
  {
   "cell_type": "code",
   "execution_count": 24,
   "id": "b27baeba",
   "metadata": {},
   "outputs": [],
   "source": [
    "def one_vs_rest(input_model,x_train,x_test,y_train,y_test):\n",
    "    model=OneVsRestClassifier(input_model)\n",
    "    model.fit(x_train,y_train)\n",
    "    y_pred=model.predict(x_test)\n",
    "    f1=f1_score(y_test,y_pred,average='weighted')\n",
    "    accuracy=accuracy_score(y_test,y_pred)\n",
    "    precision=precision_score(y_test,y_pred,average='weighted')\n",
    "    recall=recall_score(y_test,y_pred,average='weighted')\n",
    "    cmat=confusion_matrix(y_test,y_pred)\n",
    "    report=classification_report(y_test,y_pred)\n",
    "    return(model,y_pred,f1,accuracy,precision,recall,cmat,report)"
   ]
  },
  {
   "cell_type": "code",
   "execution_count": 39,
   "id": "e9484138",
   "metadata": {},
   "outputs": [],
   "source": [
    "def ml_model(model,x_train,x_test,y_train,y_test):\n",
    "    model.fit(x_train,y_train)\n",
    "    y_pred=model.predict(x_test)\n",
    "    f1=f1_score(y_test,y_pred,average='weighted')\n",
    "    accuracy=accuracy_score(y_test,y_pred)\n",
    "    precision=precision_score(y_test,y_pred,average='weighted')\n",
    "    recall=recall_score(y_test,y_pred,average='weighted')\n",
    "    cmat=confusion_matrix(y_test,y_pred)\n",
    "    report=classification_report(y_test,y_pred)\n",
    "    return(model,y_pred,f1,accuracy,precision,recall,cmat,report)"
   ]
  },
  {
   "cell_type": "code",
   "execution_count": 26,
   "id": "05b94918",
   "metadata": {},
   "outputs": [],
   "source": [
    "input_model=LogisticRegression(max_iter=100)\n",
    "model1,y_pred1,f1_score1,accuracy1,precision1,recall1,\\\n",
    "cmat1,report1 = one_vs_rest(input_model,x_train,x_test,y_train,y_test)"
   ]
  },
  {
   "cell_type": "code",
   "execution_count": 29,
   "id": "3bc7a10a",
   "metadata": {},
   "outputs": [
    {
     "data": {
      "image/png": "[encoded data removed]",
      "text/plain": [
       "<Figure size 1152x576 with 1 Axes>"
      ]
     },
     "metadata": {
      "needs_background": "light"
     },
     "output_type": "display_data"
    }
   ],
   "source": [
    "#plotting confusion matrix\n",
    "plt.figure(figsize=(16,8))\n",
    "sns.heatmap(cmat1,annot=True,fmt='0.3f',cbar=False,cmap='Oranges');"
   ]
  },
  {
   "cell_type": "code",
   "execution_count": 30,
   "id": "5f660d7a",
   "metadata": {},
   "outputs": [
    {
     "name": "stdout",
     "output_type": "stream",
     "text": [
      "              precision    recall  f1-score   support\n",
      "\n",
      "           0       0.57      0.50      0.53      7393\n",
      "           1       0.62      0.72      0.67      7391\n",
      "           2       0.68      0.58      0.62      7555\n",
      "           3       0.73      0.79      0.76      7421\n",
      "\n",
      "    accuracy                           0.65     29760\n",
      "   macro avg       0.65      0.65      0.65     29760\n",
      "weighted avg       0.65      0.65      0.65     29760\n",
      "\n"
     ]
    }
   ],
   "source": [
    "print(report1)"
   ]
  },
  {
   "cell_type": "code",
   "execution_count": 40,
   "id": "34303dfe",
   "metadata": {},
   "outputs": [],
   "source": [
    "model2,y_pred2,f1_score2,accuracy2,precision2,recall2,\\\n",
    "cmat2,report2 = ml_model(DecisionTreeClassifier(),x_train,x_test,y_train,y_test)"
   ]
  },
  {
   "cell_type": "code",
   "execution_count": 41,
   "id": "f9d4addb",
   "metadata": {},
   "outputs": [
    {
     "data": {
      "image/png": "[encoded data removed]",
      "text/plain": [
       "<Figure size 1152x576 with 1 Axes>"
      ]
     },
     "metadata": {
      "needs_background": "light"
     },
     "output_type": "display_data"
    }
   ],
   "source": [
    "#plotting confusion matrix\n",
    "plt.figure(figsize=(16,8))\n",
    "sns.heatmap(cmat2,annot=True,fmt='0.3f',cbar=False,cmap='Oranges');"
   ]
  },
  {
   "cell_type": "code",
   "execution_count": 42,
   "id": "f226b75f",
   "metadata": {},
   "outputs": [
    {
     "name": "stdout",
     "output_type": "stream",
     "text": [
      "              precision    recall  f1-score   support\n",
      "\n",
      "           0       0.92      0.99      0.96      7393\n",
      "           1       0.93      0.99      0.96      7391\n",
      "           2       0.87      0.93      0.90      7555\n",
      "           3       0.93      0.73      0.82      7421\n",
      "\n",
      "    accuracy                           0.91     29760\n",
      "   macro avg       0.91      0.91      0.91     29760\n",
      "weighted avg       0.91      0.91      0.91     29760\n",
      "\n"
     ]
    }
   ],
   "source": [
    "print(report2)"
   ]
  },
  {
   "cell_type": "code",
   "execution_count": 43,
   "id": "c755b6f5",
   "metadata": {},
   "outputs": [],
   "source": [
    "model3,y_pred3,f1_score3,accuracy3,precision3,recall3,\\\n",
    "cmat3,report3 = ml_model(RandomForestClassifier(),x_train,x_test,y_train,y_test)"
   ]
  },
  {
   "cell_type": "code",
   "execution_count": 44,
   "id": "ca03c8af",
   "metadata": {},
   "outputs": [
    {
     "data": {
      "image/png": "[encoded data removed]",
      "text/plain": [
       "<Figure size 1152x576 with 1 Axes>"
      ]
     },
     "metadata": {
      "needs_background": "light"
     },
     "output_type": "display_data"
    }
   ],
   "source": [
    "#plotting confusion matrix\n",
    "plt.figure(figsize=(16,8))\n",
    "sns.heatmap(cmat3,annot=True,fmt='0.3f',cbar=False,cmap='Oranges');"
   ]
  },
  {
   "cell_type": "code",
   "execution_count": 45,
   "id": "1310ef65",
   "metadata": {},
   "outputs": [
    {
     "name": "stdout",
     "output_type": "stream",
     "text": [
      "              precision    recall  f1-score   support\n",
      "\n",
      "           0       0.99      0.99      0.99      7393\n",
      "           1       0.97      1.00      0.98      7391\n",
      "           2       0.96      0.93      0.95      7555\n",
      "           3       0.93      0.94      0.94      7421\n",
      "\n",
      "    accuracy                           0.96     29760\n",
      "   macro avg       0.96      0.96      0.96     29760\n",
      "weighted avg       0.96      0.96      0.96     29760\n",
      "\n"
     ]
    }
   ],
   "source": [
    "print(report3)"
   ]
  },
  {
   "cell_type": "code",
   "execution_count": 46,
   "id": "8379ef98",
   "metadata": {},
   "outputs": [
    {
     "data": {
      "text/html": [
       "<div>\n",
       "<style scoped>\n",
       "    .dataframe tbody tr th:only-of-type {\n",
       "        vertical-align: middle;\n",
       "    }\n",
       "\n",
       "    .dataframe tbody tr th {\n",
       "        vertical-align: top;\n",
       "    }\n",
       "\n",
       "    .dataframe thead th {\n",
       "        text-align: right;\n",
       "    }\n",
       "</style>\n",
       "<table border=\"1\" class=\"dataframe\">\n",
       "  <thead>\n",
       "    <tr style=\"text-align: right;\">\n",
       "      <th></th>\n",
       "      <th>Model</th>\n",
       "      <th>Accuracy</th>\n",
       "      <th>Precision</th>\n",
       "      <th>Recall</th>\n",
       "      <th>f1-score</th>\n",
       "    </tr>\n",
       "  </thead>\n",
       "  <tbody>\n",
       "    <tr>\n",
       "      <th>0</th>\n",
       "      <td>Logistic OVR</td>\n",
       "      <td>0.649328</td>\n",
       "      <td>0.647862</td>\n",
       "      <td>0.649328</td>\n",
       "      <td>0.645675</td>\n",
       "    </tr>\n",
       "    <tr>\n",
       "      <th>1</th>\n",
       "      <td>Decision Tree</td>\n",
       "      <td>0.910585</td>\n",
       "      <td>0.912057</td>\n",
       "      <td>0.910585</td>\n",
       "      <td>0.907247</td>\n",
       "    </tr>\n",
       "    <tr>\n",
       "      <th>2</th>\n",
       "      <td>Random Forest</td>\n",
       "      <td>0.964415</td>\n",
       "      <td>0.964384</td>\n",
       "      <td>0.964415</td>\n",
       "      <td>0.964293</td>\n",
       "    </tr>\n",
       "  </tbody>\n",
       "</table>\n",
       "</div>"
      ],
      "text/plain": [
       "           Model  Accuracy  Precision    Recall  f1-score\n",
       "0   Logistic OVR  0.649328   0.647862  0.649328  0.645675\n",
       "1  Decision Tree  0.910585   0.912057  0.910585  0.907247\n",
       "2  Random Forest  0.964415   0.964384  0.964415  0.964293"
      ]
     },
     "execution_count": 46,
     "metadata": {},
     "output_type": "execute_result"
    }
   ],
   "source": [
    "comp1=pd.DataFrame()\n",
    "comp1['Model']=['Logistic OVR','Decision Tree','Random Forest']\n",
    "comp1['Accuracy']=[accuracy1,accuracy2,accuracy3]\n",
    "comp1['Precision']=[precision1,precision2,precision3]\n",
    "comp1['Recall']=[recall1,recall2,recall3]\n",
    "comp1['f1-score']=[f1_score1,f1_score2,f1_score3]\n",
    "comp1"
   ]
  },
  {
   "cell_type": "code",
   "execution_count": null,
   "id": "945fe663",
   "metadata": {},
   "outputs": [],
   "source": []
  },
  {
   "cell_type": "code",
   "execution_count": 47,
   "id": "70337f91",
   "metadata": {},
   "outputs": [
    {
     "data": {
      "text/html": [
       "<div>\n",
       "<style scoped>\n",
       "    .dataframe tbody tr th:only-of-type {\n",
       "        vertical-align: middle;\n",
       "    }\n",
       "\n",
       "    .dataframe tbody tr th {\n",
       "        vertical-align: top;\n",
       "    }\n",
       "\n",
       "    .dataframe thead th {\n",
       "        text-align: right;\n",
       "    }\n",
       "</style>\n",
       "<table border=\"1\" class=\"dataframe\">\n",
       "  <thead>\n",
       "    <tr style=\"text-align: right;\">\n",
       "      <th></th>\n",
       "      <th>overall</th>\n",
       "      <th>asin</th>\n",
       "      <th>unixReviewTime</th>\n",
       "      <th>overall_split</th>\n",
       "      <th>date</th>\n",
       "      <th>text</th>\n",
       "      <th>text_token</th>\n",
       "      <th>positive</th>\n",
       "      <th>negative</th>\n",
       "      <th>neutral</th>\n",
       "      <th>compound</th>\n",
       "      <th>vader_sentiment</th>\n",
       "    </tr>\n",
       "  </thead>\n",
       "  <tbody>\n",
       "    <tr>\n",
       "      <th>0</th>\n",
       "      <td>1</td>\n",
       "      <td>B000W89OP2</td>\n",
       "      <td>1427587200</td>\n",
       "      <td>1.0</td>\n",
       "      <td>2015-03-29</td>\n",
       "      <td>got this years ago my only problem with this p...</td>\n",
       "      <td>['got', 'year', 'ago', 'problem', 'product', '...</td>\n",
       "      <td>0.057</td>\n",
       "      <td>0.320</td>\n",
       "      <td>0.624</td>\n",
       "      <td>-0.9097</td>\n",
       "      <td>Negative</td>\n",
       "    </tr>\n",
       "    <tr>\n",
       "      <th>1</th>\n",
       "      <td>5</td>\n",
       "      <td>B010SIRS9E</td>\n",
       "      <td>1509494400</td>\n",
       "      <td>0.0</td>\n",
       "      <td>2017-11-01</td>\n",
       "      <td>the last strings does not really work five stars</td>\n",
       "      <td>['last', 'string', 'not', 'really', 'work', 'f...</td>\n",
       "      <td>0.000</td>\n",
       "      <td>0.000</td>\n",
       "      <td>1.000</td>\n",
       "      <td>0.0000</td>\n",
       "      <td>Neutral</td>\n",
       "    </tr>\n",
       "    <tr>\n",
       "      <th>2</th>\n",
       "      <td>5</td>\n",
       "      <td>B003J7FJ98</td>\n",
       "      <td>1378252800</td>\n",
       "      <td>0.0</td>\n",
       "      <td>2013-09-04</td>\n",
       "      <td>upon receiving the keyboard and tried it perfe...</td>\n",
       "      <td>['upon', 'receiving', 'keyboard', 'tried', 'pe...</td>\n",
       "      <td>0.293</td>\n",
       "      <td>0.000</td>\n",
       "      <td>0.707</td>\n",
       "      <td>0.8519</td>\n",
       "      <td>Positive</td>\n",
       "    </tr>\n",
       "    <tr>\n",
       "      <th>3</th>\n",
       "      <td>1</td>\n",
       "      <td>B00771QSA6</td>\n",
       "      <td>1425513600</td>\n",
       "      <td>1.0</td>\n",
       "      <td>2015-03-05</td>\n",
       "      <td>this is horrible this is a rip off don t buy i...</td>\n",
       "      <td>['horrible', 'rip', 'buy', 'really', 'recommen...</td>\n",
       "      <td>0.128</td>\n",
       "      <td>0.272</td>\n",
       "      <td>0.600</td>\n",
       "      <td>-0.4815</td>\n",
       "      <td>Conflict</td>\n",
       "    </tr>\n",
       "    <tr>\n",
       "      <th>4</th>\n",
       "      <td>5</td>\n",
       "      <td>B0002DUPZU</td>\n",
       "      <td>1488844800</td>\n",
       "      <td>0.0</td>\n",
       "      <td>2017-03-07</td>\n",
       "      <td>great product five stars</td>\n",
       "      <td>['great', 'product', 'five', 'star']</td>\n",
       "      <td>0.577</td>\n",
       "      <td>0.000</td>\n",
       "      <td>0.423</td>\n",
       "      <td>0.6249</td>\n",
       "      <td>Positive</td>\n",
       "    </tr>\n",
       "  </tbody>\n",
       "</table>\n",
       "</div>"
      ],
      "text/plain": [
       "   overall        asin  unixReviewTime  overall_split        date  \\\n",
       "0        1  B000W89OP2      1427587200            1.0  2015-03-29   \n",
       "1        5  B010SIRS9E      1509494400            0.0  2017-11-01   \n",
       "2        5  B003J7FJ98      1378252800            0.0  2013-09-04   \n",
       "3        1  B00771QSA6      1425513600            1.0  2015-03-05   \n",
       "4        5  B0002DUPZU      1488844800            0.0  2017-03-07   \n",
       "\n",
       "                                                text  \\\n",
       "0  got this years ago my only problem with this p...   \n",
       "1   the last strings does not really work five stars   \n",
       "2  upon receiving the keyboard and tried it perfe...   \n",
       "3  this is horrible this is a rip off don t buy i...   \n",
       "4                           great product five stars   \n",
       "\n",
       "                                          text_token  positive  negative  \\\n",
       "0  ['got', 'year', 'ago', 'problem', 'product', '...     0.057     0.320   \n",
       "1  ['last', 'string', 'not', 'really', 'work', 'f...     0.000     0.000   \n",
       "2  ['upon', 'receiving', 'keyboard', 'tried', 'pe...     0.293     0.000   \n",
       "3  ['horrible', 'rip', 'buy', 'really', 'recommen...     0.128     0.272   \n",
       "4               ['great', 'product', 'five', 'star']     0.577     0.000   \n",
       "\n",
       "   neutral  compound vader_sentiment  \n",
       "0    0.624   -0.9097        Negative  \n",
       "1    1.000    0.0000         Neutral  \n",
       "2    0.707    0.8519        Positive  \n",
       "3    0.600   -0.4815        Conflict  \n",
       "4    0.423    0.6249        Positive  "
      ]
     },
     "execution_count": 47,
     "metadata": {},
     "output_type": "execute_result"
    }
   ],
   "source": [
    "instrument_data=pd.read_csv('Instrument_ml_data.csv')\n",
    "instrument_data.head()"
   ]
  },
  {
   "cell_type": "code",
   "execution_count": 48,
   "id": "3b82c8e2",
   "metadata": {},
   "outputs": [
    {
     "data": {
      "text/plain": [
       "Positive    23009\n",
       "Neutral      8404\n",
       "Negative     4624\n",
       "Conflict     3963\n",
       "Name: vader_sentiment, dtype: int64"
      ]
     },
     "execution_count": 48,
     "metadata": {},
     "output_type": "execute_result"
    }
   ],
   "source": [
    "instrument_data['vader_sentiment'].value_counts()"
   ]
  },
  {
   "cell_type": "code",
   "execution_count": 49,
   "id": "5318dd05",
   "metadata": {},
   "outputs": [],
   "source": [
    "instrument_data['sentiment_encoded']=label_encoder.fit_transform(instrument_data['vader_sentiment'])"
   ]
  },
  {
   "cell_type": "code",
   "execution_count": 50,
   "id": "e9727e7e",
   "metadata": {},
   "outputs": [
    {
     "data": {
      "text/html": [
       "<div>\n",
       "<style scoped>\n",
       "    .dataframe tbody tr th:only-of-type {\n",
       "        vertical-align: middle;\n",
       "    }\n",
       "\n",
       "    .dataframe tbody tr th {\n",
       "        vertical-align: top;\n",
       "    }\n",
       "\n",
       "    .dataframe thead th {\n",
       "        text-align: right;\n",
       "    }\n",
       "</style>\n",
       "<table border=\"1\" class=\"dataframe\">\n",
       "  <thead>\n",
       "    <tr style=\"text-align: right;\">\n",
       "      <th></th>\n",
       "      <th>0</th>\n",
       "      <th>1</th>\n",
       "      <th>2</th>\n",
       "      <th>3</th>\n",
       "      <th>4</th>\n",
       "      <th>5</th>\n",
       "      <th>6</th>\n",
       "      <th>7</th>\n",
       "      <th>8</th>\n",
       "      <th>9</th>\n",
       "      <th>...</th>\n",
       "      <th>758</th>\n",
       "      <th>759</th>\n",
       "      <th>760</th>\n",
       "      <th>761</th>\n",
       "      <th>762</th>\n",
       "      <th>763</th>\n",
       "      <th>764</th>\n",
       "      <th>765</th>\n",
       "      <th>766</th>\n",
       "      <th>767</th>\n",
       "    </tr>\n",
       "  </thead>\n",
       "  <tbody>\n",
       "    <tr>\n",
       "      <th>0</th>\n",
       "      <td>0.034814</td>\n",
       "      <td>0.064835</td>\n",
       "      <td>-0.033559</td>\n",
       "      <td>-0.030410</td>\n",
       "      <td>0.020887</td>\n",
       "      <td>-0.010554</td>\n",
       "      <td>0.003480</td>\n",
       "      <td>0.057081</td>\n",
       "      <td>0.096977</td>\n",
       "      <td>-0.022064</td>\n",
       "      <td>...</td>\n",
       "      <td>0.05604</td>\n",
       "      <td>-0.004366</td>\n",
       "      <td>0.013781</td>\n",
       "      <td>0.041679</td>\n",
       "      <td>0.040939</td>\n",
       "      <td>-0.053549</td>\n",
       "      <td>0.035697</td>\n",
       "      <td>-0.070312</td>\n",
       "      <td>0.016141</td>\n",
       "      <td>0.002079</td>\n",
       "    </tr>\n",
       "    <tr>\n",
       "      <th>1</th>\n",
       "      <td>0.031321</td>\n",
       "      <td>-0.031812</td>\n",
       "      <td>0.014827</td>\n",
       "      <td>-0.005265</td>\n",
       "      <td>-0.028531</td>\n",
       "      <td>0.066086</td>\n",
       "      <td>0.000113</td>\n",
       "      <td>0.060869</td>\n",
       "      <td>0.035434</td>\n",
       "      <td>0.008755</td>\n",
       "      <td>...</td>\n",
       "      <td>0.01169</td>\n",
       "      <td>0.013695</td>\n",
       "      <td>-0.044613</td>\n",
       "      <td>0.001436</td>\n",
       "      <td>-0.059198</td>\n",
       "      <td>-0.003137</td>\n",
       "      <td>-0.003530</td>\n",
       "      <td>-0.038577</td>\n",
       "      <td>-0.048716</td>\n",
       "      <td>-0.017238</td>\n",
       "    </tr>\n",
       "  </tbody>\n",
       "</table>\n",
       "<p>2 rows × 768 columns</p>\n",
       "</div>"
      ],
      "text/plain": [
       "          0         1         2         3         4         5         6  \\\n",
       "0  0.034814  0.064835 -0.033559 -0.030410  0.020887 -0.010554  0.003480   \n",
       "1  0.031321 -0.031812  0.014827 -0.005265 -0.028531  0.066086  0.000113   \n",
       "\n",
       "          7         8         9  ...      758       759       760       761  \\\n",
       "0  0.057081  0.096977 -0.022064  ...  0.05604 -0.004366  0.013781  0.041679   \n",
       "1  0.060869  0.035434  0.008755  ...  0.01169  0.013695 -0.044613  0.001436   \n",
       "\n",
       "        762       763       764       765       766       767  \n",
       "0  0.040939 -0.053549  0.035697 -0.070312  0.016141  0.002079  \n",
       "1 -0.059198 -0.003137 -0.003530 -0.038577 -0.048716 -0.017238  \n",
       "\n",
       "[2 rows x 768 columns]"
      ]
     },
     "execution_count": 50,
     "metadata": {},
     "output_type": "execute_result"
    }
   ],
   "source": [
    "instrument_vector=pd.read_csv(\"instrument_vectorized.csv\")\n",
    "instrument_vector.head(2)"
   ]
  },
  {
   "cell_type": "code",
   "execution_count": 51,
   "id": "ef170257",
   "metadata": {},
   "outputs": [
    {
     "data": {
      "text/html": [
       "<div>\n",
       "<style scoped>\n",
       "    .dataframe tbody tr th:only-of-type {\n",
       "        vertical-align: middle;\n",
       "    }\n",
       "\n",
       "    .dataframe tbody tr th {\n",
       "        vertical-align: top;\n",
       "    }\n",
       "\n",
       "    .dataframe thead th {\n",
       "        text-align: right;\n",
       "    }\n",
       "</style>\n",
       "<table border=\"1\" class=\"dataframe\">\n",
       "  <thead>\n",
       "    <tr style=\"text-align: right;\">\n",
       "      <th></th>\n",
       "      <th>0</th>\n",
       "      <th>1</th>\n",
       "      <th>2</th>\n",
       "      <th>3</th>\n",
       "      <th>4</th>\n",
       "      <th>5</th>\n",
       "      <th>6</th>\n",
       "      <th>7</th>\n",
       "      <th>8</th>\n",
       "      <th>9</th>\n",
       "      <th>...</th>\n",
       "      <th>759</th>\n",
       "      <th>760</th>\n",
       "      <th>761</th>\n",
       "      <th>762</th>\n",
       "      <th>763</th>\n",
       "      <th>764</th>\n",
       "      <th>765</th>\n",
       "      <th>766</th>\n",
       "      <th>767</th>\n",
       "      <th>sentiment_encoded</th>\n",
       "    </tr>\n",
       "  </thead>\n",
       "  <tbody>\n",
       "    <tr>\n",
       "      <th>0</th>\n",
       "      <td>0.034814</td>\n",
       "      <td>0.064835</td>\n",
       "      <td>-0.033559</td>\n",
       "      <td>-0.030410</td>\n",
       "      <td>0.020887</td>\n",
       "      <td>-0.010554</td>\n",
       "      <td>0.003480</td>\n",
       "      <td>0.057081</td>\n",
       "      <td>0.096977</td>\n",
       "      <td>-0.022064</td>\n",
       "      <td>...</td>\n",
       "      <td>-0.004366</td>\n",
       "      <td>0.013781</td>\n",
       "      <td>0.041679</td>\n",
       "      <td>0.040939</td>\n",
       "      <td>-0.053549</td>\n",
       "      <td>0.035697</td>\n",
       "      <td>-0.070312</td>\n",
       "      <td>0.016141</td>\n",
       "      <td>0.002079</td>\n",
       "      <td>1</td>\n",
       "    </tr>\n",
       "    <tr>\n",
       "      <th>1</th>\n",
       "      <td>0.031321</td>\n",
       "      <td>-0.031812</td>\n",
       "      <td>0.014827</td>\n",
       "      <td>-0.005265</td>\n",
       "      <td>-0.028531</td>\n",
       "      <td>0.066086</td>\n",
       "      <td>0.000113</td>\n",
       "      <td>0.060869</td>\n",
       "      <td>0.035434</td>\n",
       "      <td>0.008755</td>\n",
       "      <td>...</td>\n",
       "      <td>0.013695</td>\n",
       "      <td>-0.044613</td>\n",
       "      <td>0.001436</td>\n",
       "      <td>-0.059198</td>\n",
       "      <td>-0.003137</td>\n",
       "      <td>-0.003530</td>\n",
       "      <td>-0.038577</td>\n",
       "      <td>-0.048716</td>\n",
       "      <td>-0.017238</td>\n",
       "      <td>2</td>\n",
       "    </tr>\n",
       "  </tbody>\n",
       "</table>\n",
       "<p>2 rows × 769 columns</p>\n",
       "</div>"
      ],
      "text/plain": [
       "          0         1         2         3         4         5         6  \\\n",
       "0  0.034814  0.064835 -0.033559 -0.030410  0.020887 -0.010554  0.003480   \n",
       "1  0.031321 -0.031812  0.014827 -0.005265 -0.028531  0.066086  0.000113   \n",
       "\n",
       "          7         8         9  ...       759       760       761       762  \\\n",
       "0  0.057081  0.096977 -0.022064  ... -0.004366  0.013781  0.041679  0.040939   \n",
       "1  0.060869  0.035434  0.008755  ...  0.013695 -0.044613  0.001436 -0.059198   \n",
       "\n",
       "        763       764       765       766       767  sentiment_encoded  \n",
       "0 -0.053549  0.035697 -0.070312  0.016141  0.002079                  1  \n",
       "1 -0.003137 -0.003530 -0.038577 -0.048716 -0.017238                  2  \n",
       "\n",
       "[2 rows x 769 columns]"
      ]
     },
     "execution_count": 51,
     "metadata": {},
     "output_type": "execute_result"
    }
   ],
   "source": [
    "instrument_vector['sentiment_encoded']=instrument_data['sentiment_encoded']\n",
    "instrument_vector.head(2)"
   ]
  },
  {
   "cell_type": "code",
   "execution_count": 52,
   "id": "8b6c2b32",
   "metadata": {},
   "outputs": [
    {
     "data": {
      "text/plain": [
       "(3963, 769)"
      ]
     },
     "execution_count": 52,
     "metadata": {},
     "output_type": "execute_result"
    }
   ],
   "source": [
    "instrument1=instrument_vector.loc[instrument_vector['sentiment_encoded']==0]\n",
    "instrument1.shape"
   ]
  },
  {
   "cell_type": "code",
   "execution_count": 53,
   "id": "fc53268e",
   "metadata": {},
   "outputs": [
    {
     "data": {
      "text/plain": [
       "(4624, 769)"
      ]
     },
     "execution_count": 53,
     "metadata": {},
     "output_type": "execute_result"
    }
   ],
   "source": [
    "instrument2=instrument_vector.loc[instrument_vector['sentiment_encoded']==1]\n",
    "instrument2.shape"
   ]
  },
  {
   "cell_type": "code",
   "execution_count": 54,
   "id": "700786eb",
   "metadata": {},
   "outputs": [
    {
     "data": {
      "text/plain": [
       "(8404, 769)"
      ]
     },
     "execution_count": 54,
     "metadata": {},
     "output_type": "execute_result"
    }
   ],
   "source": [
    "instrument3=instrument_vector.loc[instrument_vector['sentiment_encoded']==2]\n",
    "instrument3.shape"
   ]
  },
  {
   "cell_type": "code",
   "execution_count": 55,
   "id": "0d2184e3",
   "metadata": {},
   "outputs": [
    {
     "data": {
      "text/plain": [
       "(23009, 769)"
      ]
     },
     "execution_count": 55,
     "metadata": {},
     "output_type": "execute_result"
    }
   ],
   "source": [
    "instrument4=instrument_vector.loc[instrument_vector['sentiment_encoded']==3]\n",
    "instrument4.shape"
   ]
  },
  {
   "cell_type": "code",
   "execution_count": 56,
   "id": "37942f45",
   "metadata": {},
   "outputs": [
    {
     "data": {
      "text/plain": [
       "(23000, 769)"
      ]
     },
     "execution_count": 56,
     "metadata": {},
     "output_type": "execute_result"
    }
   ],
   "source": [
    "instrument4=music4.sample(n=23000)\n",
    "instrument4.shape"
   ]
  },
  {
   "cell_type": "code",
   "execution_count": 57,
   "id": "845078d6",
   "metadata": {},
   "outputs": [
    {
     "data": {
      "text/plain": [
       "(23000, 769)"
      ]
     },
     "execution_count": 57,
     "metadata": {},
     "output_type": "execute_result"
    }
   ],
   "source": [
    "instrument3=music3.sample(n=23000,replace=True)\n",
    "instrument3.shape"
   ]
  },
  {
   "cell_type": "code",
   "execution_count": 58,
   "id": "a63dff59",
   "metadata": {},
   "outputs": [
    {
     "data": {
      "text/plain": [
       "(23000, 769)"
      ]
     },
     "execution_count": 58,
     "metadata": {},
     "output_type": "execute_result"
    }
   ],
   "source": [
    "instrument2=music2.sample(n=23000,replace=True)\n",
    "instrument2.shape"
   ]
  },
  {
   "cell_type": "code",
   "execution_count": 59,
   "id": "03706301",
   "metadata": {},
   "outputs": [
    {
     "data": {
      "text/plain": [
       "(23000, 769)"
      ]
     },
     "execution_count": 59,
     "metadata": {},
     "output_type": "execute_result"
    }
   ],
   "source": [
    "instrument1=music1.sample(n=23000,replace=True)\n",
    "instrument1.shape"
   ]
  },
  {
   "cell_type": "code",
   "execution_count": 60,
   "id": "a123f0fe",
   "metadata": {},
   "outputs": [
    {
     "data": {
      "text/plain": [
       "(92000, 769)"
      ]
     },
     "execution_count": 60,
     "metadata": {},
     "output_type": "execute_result"
    }
   ],
   "source": [
    "instrument_blc=pd.concat([instrument1,instrument2,instrument3,instrument4])\n",
    "instrument_blc.shape"
   ]
  },
  {
   "cell_type": "code",
   "execution_count": 61,
   "id": "ecd8c00a",
   "metadata": {},
   "outputs": [
    {
     "data": {
      "text/plain": [
       "0    23000\n",
       "1    23000\n",
       "2    23000\n",
       "3    23000\n",
       "Name: sentiment_encoded, dtype: int64"
      ]
     },
     "execution_count": 61,
     "metadata": {},
     "output_type": "execute_result"
    }
   ],
   "source": [
    "instrument_blc['sentiment_encoded'].value_counts()"
   ]
  },
  {
   "cell_type": "code",
   "execution_count": 63,
   "id": "d2da1008",
   "metadata": {},
   "outputs": [],
   "source": [
    "x2=instrument_blc.drop('sentiment_encoded',axis=1)\n",
    "y2=instrument_blc['sentiment_encoded']"
   ]
  },
  {
   "cell_type": "code",
   "execution_count": 65,
   "id": "7ce1255f",
   "metadata": {},
   "outputs": [],
   "source": [
    "x_train2, x_test2, y_train2, y_test2 = train_test_split(x2, y2, test_size = 0.30, random_state = 0)"
   ]
  },
  {
   "cell_type": "code",
   "execution_count": 66,
   "id": "f5ed0c86",
   "metadata": {},
   "outputs": [],
   "source": [
    "input_model=LogisticRegression(max_iter=100)\n",
    "model4,y_pred4,f1_score4,accuracy4,precision4,recall4,\\\n",
    "cmat4,report4 = one_vs_rest(input_model,x_train2,x_test2,y_train2,y_test2)"
   ]
  },
  {
   "cell_type": "code",
   "execution_count": 67,
   "id": "f8a7f9f0",
   "metadata": {},
   "outputs": [
    {
     "data": {
      "image/png": "[encoded data removed]",
      "text/plain": [
       "<Figure size 1152x576 with 1 Axes>"
      ]
     },
     "metadata": {
      "needs_background": "light"
     },
     "output_type": "display_data"
    }
   ],
   "source": [
    "#plotting confusion matrix\n",
    "plt.figure(figsize=(16,8))\n",
    "sns.heatmap(cmat4,annot=True,fmt='0.3f',cbar=False,cmap='Oranges');"
   ]
  },
  {
   "cell_type": "code",
   "execution_count": 68,
   "id": "74c3555c",
   "metadata": {},
   "outputs": [
    {
     "name": "stdout",
     "output_type": "stream",
     "text": [
      "              precision    recall  f1-score   support\n",
      "\n",
      "           0       0.58      0.53      0.56      6872\n",
      "           1       0.63      0.72      0.67      6865\n",
      "           2       0.70      0.58      0.63      6992\n",
      "           3       0.73      0.81      0.76      6871\n",
      "\n",
      "    accuracy                           0.66     27600\n",
      "   macro avg       0.66      0.66      0.66     27600\n",
      "weighted avg       0.66      0.66      0.66     27600\n",
      "\n"
     ]
    }
   ],
   "source": [
    "print(report4)"
   ]
  },
  {
   "cell_type": "code",
   "execution_count": 69,
   "id": "6c964d24",
   "metadata": {},
   "outputs": [],
   "source": [
    "model5,y_pred5,f1_score5,accuracy5,precision5,recall5,\\\n",
    "cmat5,report5 = ml_model(DecisionTreeClassifier(),x_train2,x_test2,y_train2,y_test2)"
   ]
  },
  {
   "cell_type": "code",
   "execution_count": 70,
   "id": "28e373b4",
   "metadata": {},
   "outputs": [
    {
     "data": {
      "image/png": "[encoded data removed]",
      "text/plain": [
       "<Figure size 1152x576 with 1 Axes>"
      ]
     },
     "metadata": {
      "needs_background": "light"
     },
     "output_type": "display_data"
    }
   ],
   "source": [
    "#plotting confusion matrix\n",
    "plt.figure(figsize=(16,8))\n",
    "sns.heatmap(cmat5,annot=True,fmt='0.3f',cbar=False,cmap='Oranges');"
   ]
  },
  {
   "cell_type": "code",
   "execution_count": 71,
   "id": "e204ac91",
   "metadata": {},
   "outputs": [
    {
     "name": "stdout",
     "output_type": "stream",
     "text": [
      "              precision    recall  f1-score   support\n",
      "\n",
      "           0       0.92      0.99      0.95      6872\n",
      "           1       0.92      0.99      0.95      6865\n",
      "           2       0.87      0.92      0.90      6992\n",
      "           3       0.93      0.73      0.82      6871\n",
      "\n",
      "    accuracy                           0.91     27600\n",
      "   macro avg       0.91      0.91      0.91     27600\n",
      "weighted avg       0.91      0.91      0.91     27600\n",
      "\n"
     ]
    }
   ],
   "source": [
    "print(report5)"
   ]
  },
  {
   "cell_type": "code",
   "execution_count": 72,
   "id": "82954a3b",
   "metadata": {},
   "outputs": [],
   "source": [
    "model6,y_pred6,f1_score6,accuracy6,precision6,recall6,\\\n",
    "cmat6,report6 = ml_model(RandomForestClassifier(),x_train2,x_test2,y_train2,y_test2)"
   ]
  },
  {
   "cell_type": "code",
   "execution_count": 73,
   "id": "f32661b2",
   "metadata": {},
   "outputs": [
    {
     "data": {
      "image/png": "[encoded data removed]",
      "text/plain": [
       "<Figure size 1152x576 with 1 Axes>"
      ]
     },
     "metadata": {
      "needs_background": "light"
     },
     "output_type": "display_data"
    }
   ],
   "source": [
    "#plotting confusion matrix\n",
    "plt.figure(figsize=(16,8))\n",
    "sns.heatmap(cmat6,annot=True,fmt='0.3f',cbar=False,cmap='Oranges');"
   ]
  },
  {
   "cell_type": "code",
   "execution_count": 74,
   "id": "5ef49d05",
   "metadata": {},
   "outputs": [
    {
     "name": "stdout",
     "output_type": "stream",
     "text": [
      "              precision    recall  f1-score   support\n",
      "\n",
      "           0       0.99      0.99      0.99      6872\n",
      "           1       0.97      0.99      0.98      6865\n",
      "           2       0.96      0.93      0.95      6992\n",
      "           3       0.93      0.95      0.94      6871\n",
      "\n",
      "    accuracy                           0.96     27600\n",
      "   macro avg       0.96      0.96      0.96     27600\n",
      "weighted avg       0.96      0.96      0.96     27600\n",
      "\n"
     ]
    }
   ],
   "source": [
    "print(report6)"
   ]
  },
  {
   "cell_type": "code",
   "execution_count": 75,
   "id": "79f98d24",
   "metadata": {},
   "outputs": [
    {
     "data": {
      "text/html": [
       "<div>\n",
       "<style scoped>\n",
       "    .dataframe tbody tr th:only-of-type {\n",
       "        vertical-align: middle;\n",
       "    }\n",
       "\n",
       "    .dataframe tbody tr th {\n",
       "        vertical-align: top;\n",
       "    }\n",
       "\n",
       "    .dataframe thead th {\n",
       "        text-align: right;\n",
       "    }\n",
       "</style>\n",
       "<table border=\"1\" class=\"dataframe\">\n",
       "  <thead>\n",
       "    <tr style=\"text-align: right;\">\n",
       "      <th></th>\n",
       "      <th>Model</th>\n",
       "      <th>Accuracy</th>\n",
       "      <th>Precision</th>\n",
       "      <th>Recall</th>\n",
       "      <th>f1-score</th>\n",
       "    </tr>\n",
       "  </thead>\n",
       "  <tbody>\n",
       "    <tr>\n",
       "      <th>0</th>\n",
       "      <td>Logistic OVR</td>\n",
       "      <td>0.659638</td>\n",
       "      <td>0.658902</td>\n",
       "      <td>0.659638</td>\n",
       "      <td>0.656182</td>\n",
       "    </tr>\n",
       "    <tr>\n",
       "      <th>1</th>\n",
       "      <td>Decision Tree</td>\n",
       "      <td>0.908913</td>\n",
       "      <td>0.910338</td>\n",
       "      <td>0.908913</td>\n",
       "      <td>0.905839</td>\n",
       "    </tr>\n",
       "    <tr>\n",
       "      <th>2</th>\n",
       "      <td>Random Forest</td>\n",
       "      <td>0.962862</td>\n",
       "      <td>0.963002</td>\n",
       "      <td>0.962862</td>\n",
       "      <td>0.962797</td>\n",
       "    </tr>\n",
       "  </tbody>\n",
       "</table>\n",
       "</div>"
      ],
      "text/plain": [
       "           Model  Accuracy  Precision    Recall  f1-score\n",
       "0   Logistic OVR  0.659638   0.658902  0.659638  0.656182\n",
       "1  Decision Tree  0.908913   0.910338  0.908913  0.905839\n",
       "2  Random Forest  0.962862   0.963002  0.962862  0.962797"
      ]
     },
     "execution_count": 75,
     "metadata": {},
     "output_type": "execute_result"
    }
   ],
   "source": [
    "comp2=pd.DataFrame()\n",
    "comp2['Model']=['Logistic OVR','Decision Tree','Random Forest']\n",
    "comp2['Accuracy']=[accuracy4,accuracy5,accuracy6]\n",
    "comp2['Precision']=[precision4,precision5,precision6]\n",
    "comp2['Recall']=[recall4,recall5,recall6]\n",
    "comp2['f1-score']=[f1_score4,f1_score5,f1_score6]\n",
    "comp2"
   ]
  },
  {
   "cell_type": "code",
   "execution_count": null,
   "id": "0d1a57a8",
   "metadata": {},
   "outputs": [],
   "source": []
  }
 ],
 "metadata": {
  "kernelspec": {
   "display_name": "Python 3",
   "language": "python",
   "name": "python3"
  },
  "language_info": {
   "codemirror_mode": {
    "name": "ipython",
    "version": 3
   },
   "file_extension": ".py",
   "mimetype": "text/x-python",
   "name": "python",
   "nbconvert_exporter": "python",
   "pygments_lexer": "ipython3",
   "version": "3.6.13"
  }
 },
 "nbformat": 4,
 "nbformat_minor": 5
}
